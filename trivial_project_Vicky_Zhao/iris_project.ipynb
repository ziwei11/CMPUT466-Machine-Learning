{
  "nbformat": 4,
  "nbformat_minor": 0,
  "metadata": {
    "colab": {
      "name": "iris-project.ipynb",
      "provenance": []
    },
    "kernelspec": {
      "name": "python3",
      "display_name": "Python 3"
    },
    "language_info": {
      "name": "python"
    }
  },
  "cells": [
    {
      "cell_type": "code",
      "execution_count": 1,
      "metadata": {
        "id": "eMmVbIcQzTvc"
      },
      "outputs": [],
      "source": [
        "import numpy as np\n",
        "import struct\n",
        "import matplotlib.pyplot as plt\n",
        "from scipy.special import expit\n",
        "from sklearn.datasets import load_iris\n",
        "from sklearn.model_selection import cross_val_score\n",
        "from sklearn.metrics import accuracy_score\n",
        "from sklearn.metrics import hamming_loss\n",
        "from sklearn.linear_model import LogisticRegression\n",
        "from sklearn.naive_bayes import CategoricalNB\n",
        "from sklearn.naive_bayes import MultinomialNB\n",
        "from sklearn.svm import SVC\n",
        "from sklearn.neighbors import KNeighborsClassifier\n",
        "from random import randrange\n",
        "\n",
        "def readIRISdata():\n",
        "    iris = load_iris()\n",
        "    x = iris.data\n",
        "    t = iris.target\n",
        "    t = t.reshape((len(t), 1))\n",
        "    x = np.concatenate((np.ones([x.shape[0], 1]), x), axis=1)\n",
        "\n",
        "    np.random.seed(150)\n",
        "    np.random.shuffle(t)\n",
        "    np.random.seed(150)\n",
        "    np.random.shuffle(x)\n",
        "\n",
        "    X_train = x[:80]\n",
        "    t_train = t[:80]\n",
        "    X_val   = x[80:120]\n",
        "    t_val   = t[80:120]\n",
        "    test_data   = x[120:]\n",
        "    test_labels   = t[120:]\n",
        "    return X_train, t_train, X_val, t_val, test_data, test_labels\n",
        "\n",
        "# read iris dataset\n",
        "X_train, t_train, X_val, t_val, X_test, t_test = readIRISdata()"
      ]
    },
    {
      "cell_type": "code",
      "source": [
        "# Baseline classifier\n",
        "new_t_train = np.copy(t_train)\n",
        "length = t_train.shape[0]\n",
        "for i in range(length):\n",
        "  # baseline predict for t = 1, same with t = 0 and t = 2\n",
        "  if t_train[i][0] == 1:\n",
        "    new_t_train[i][0] = 1\n",
        "  else:\n",
        "    new_t_train[i][0] = 0\n",
        "\n",
        "output_values = []\n",
        "for i in range(length):\n",
        "  output_values.append(new_t_train[i][0])\n",
        "unique = list(set(output_values))\n",
        "t_pred = []\n",
        "for row in t_test:\n",
        "  index = randrange(len(unique))\n",
        "  t_pred.append(unique[index])\n",
        "\n",
        "new_t_test = np.copy(t_test)\n",
        "length2 = t_test.shape[0]\n",
        "for i in range(length2):\n",
        "  if t_test[i][0] == 1:\n",
        "    new_t_test[i][0] = 1\n",
        "  else:\n",
        "    new_t_test[i][0] = 0\n",
        "test_acc = accuracy_score(new_t_test, t_pred)\n",
        "print(\"The baseline test accuracy is \", test_acc)"
      ],
      "metadata": {
        "colab": {
          "base_uri": "https://localhost:8080/"
        },
        "id": "0vP3F7lrNFby",
        "outputId": "71433ad5-4c04-4f62-c552-bb093570004b"
      },
      "execution_count": 2,
      "outputs": [
        {
          "output_type": "stream",
          "name": "stdout",
          "text": [
            "The baseline test accuracy is  0.6333333333333333\n"
          ]
        }
      ]
    },
    {
      "cell_type": "code",
      "source": [
        "# SVM classifier\n",
        "t_train = t_train.reshape((len(t_train),))\n",
        "# Initial hyperparameters, best_hyper\n",
        "# validation_accuracy, max_accuracy\n",
        "# mean_squared_errorr, loss\n",
        "hyperparameters = [0.05, 0.1, 0.5, 1, 5, 10, 50, 100, 500]\n",
        "best_hyper = 0\n",
        "validation_accuracy = []\n",
        "max_accuracy = 0\n",
        "mean_squared_error = []\n",
        "loss = []\n",
        "\n",
        "for hyper in hyperparameters:\n",
        "  svm = SVC(C=hyper)\n",
        "  # Cross Validation Accuracy\n",
        "  cvs1 = cross_val_score(svm, X_train, t_train, scoring='accuracy', cv=7)\n",
        "  current_accuracy = np.mean(cvs1)\n",
        "  validation_accuracy.append(current_accuracy)\n",
        "  # Negative Mean Squared Error\n",
        "  cvs2 = cross_val_score(svm, X_train, t_train, scoring='neg_mean_squared_error', cv=7)\n",
        "  current_error = np.sqrt(-cvs2)\n",
        "  mean_squared_error.append(np.mean(current_error))\n",
        "  # Loss\n",
        "  svm.fit(X_train, t_train)\n",
        "  y_pred = svm.predict(X_train)\n",
        "  current_loss = hamming_loss(t_train, y_pred)\n",
        "  loss.append(current_loss)\n",
        "  # Update best_hyper, max_accuracy\n",
        "  if current_accuracy > max_accuracy:\n",
        "    best_hyper = hyper\n",
        "    max_accuracy = current_accuracy\n",
        "\n",
        "svm = SVC(C=best_hyper)\n",
        "svm.fit(X_train, t_train)\n",
        "y_test = svm.predict(X_test)\n",
        "test_acc = accuracy_score(t_test, y_test)\n",
        "print('Best hyperparameter is', best_hyper)\n",
        "print('SVM test accuracy is', test_acc)\n",
        "\n",
        "# plot Cross Validation Accuracy Curve\n",
        "plt.plot(np.log10(hyperparameters), validation_accuracy)\n",
        "plt.xlabel('Hyperparameter')\n",
        "plt.ylabel('Cross Validation Accuracy')\n",
        "plt.title('Hyperparameter / Cross Validation Accuracy')\n",
        "plt.savefig(\"SVM1.jpg\")\n",
        "plt.cla()\n",
        "# plot Negative Mean Squared Error Curve\n",
        "plt.plot(np.log10(hyperparameters), mean_squared_error)\n",
        "plt.xlabel('Hyperparameter')\n",
        "plt.ylabel('Negative Mean Squared Error')\n",
        "plt.title('Hyperparameter / Negative Mean Squared Error')\n",
        "plt.savefig(\"SVM2.jpg\")\n",
        "plt.cla()\n",
        "# Plot Loss Curve\n",
        "plt.plot(np.log10(hyperparameters), loss)\n",
        "plt.xlabel('Hyperparameter')\n",
        "plt.ylabel('Loss')\n",
        "plt.title('Hyperparameter / Loss')\n",
        "plt.savefig(\"SVM3.jpg\")"
      ],
      "metadata": {
        "colab": {
          "base_uri": "https://localhost:8080/",
          "height": 329
        },
        "id": "OPFEPorhza0p",
        "outputId": "97d0534f-960c-497a-ebf5-245d7ffa8703"
      },
      "execution_count": 3,
      "outputs": [
        {
          "output_type": "stream",
          "name": "stdout",
          "text": [
            "Best hyperparameter is 5\n",
            "SVM test accuracy is 0.9666666666666667\n"
          ]
        },
        {
          "output_type": "display_data",
          "data": {
            "image/png": "[encoded data removed]",
            "text/plain": [
              "<Figure size 432x288 with 1 Axes>"
            ]
          },
          "metadata": {
            "needs_background": "light"
          }
        }
      ]
    },
    {
      "cell_type": "code",
      "source": [
        "# Logistic Regression Classifier\n",
        "t_train = t_train.reshape((len(t_train),))\n",
        "# Initial hyperparameters, best_hyper\n",
        "# validation_accuracy, max_accuracy\n",
        "# mean_squared_error, loss\n",
        "hyperparameters = [0.001, 0.005, 0.01, 0.05, 0.1, 0.5, 1, 5, 10, 50, 100, 500]\n",
        "best_hyper = 0\n",
        "validation_accuracy = []\n",
        "max_accuracy = 0\n",
        "mean_squared_error = []\n",
        "loss = []\n",
        "\n",
        "for hyper in hyperparameters:\n",
        "  lg = LogisticRegression(C=hyper, max_iter=700)\n",
        "  # Cross Validation Accuracy\n",
        "  cvs1 = cross_val_score(lg, X_train, t_train, scoring='accuracy', cv=7)\n",
        "  current_accuracy = np.mean(cvs1)\n",
        "  validation_accuracy.append(current_accuracy)\n",
        "  # Negative Mean Squared Error\n",
        "  cvs2 = cross_val_score(lg, X_train, t_train, scoring='neg_mean_squared_error', cv=7)\n",
        "  current_error = np.sqrt(-cvs2)\n",
        "  mean_squared_error.append(np.mean(current_error))\n",
        "  # Loss\n",
        "  lg.fit(X_train, t_train)\n",
        "  y_pred = lg.predict(X_train)\n",
        "  current_loss = hamming_loss(t_train, y_pred)\n",
        "  loss.append(current_loss)\n",
        "  # Update best_hyper, max_accuracy\n",
        "  if current_accuracy > max_accuracy:\n",
        "    best_hyper = hyper\n",
        "    max_accuracy = current_accuracy\n",
        "\n",
        "lg = LogisticRegression(C=best_hyper, max_iter=700)\n",
        "lg.fit(X_train, t_train)\n",
        "y_test = lg.predict(X_test)\n",
        "test_acc = accuracy_score(t_test, y_test)\n",
        "print('Best hyperparameter is', best_hyper)\n",
        "print('Logistic Regression test accuracy is', test_acc)\n",
        "\n",
        "# plot Cross Validation Accuracy Curve\n",
        "plt.plot(np.log10(hyperparameters), validation_accuracy)\n",
        "plt.xlabel('Hyperparameter')\n",
        "plt.ylabel('Cross Validation Accuracy')\n",
        "plt.title('Hyperparameter / Cross Validation Accuracy')\n",
        "plt.savefig(\"LogisticRegression1.jpg\")\n",
        "plt.cla()\n",
        "# plot Negative Mean Squared Error Curve\n",
        "plt.plot(np.log10(hyperparameters), mean_squared_error)\n",
        "plt.xlabel('Hyperparameter')\n",
        "plt.ylabel('Negative Mean Squared Error')\n",
        "plt.title('Hyperparameter / Negative Mean Squared Error')\n",
        "plt.savefig(\"LogisticRegression2.jpg\")\n",
        "plt.cla()\n",
        "# Plot Loss Curve\n",
        "plt.plot(np.log10(hyperparameters), loss)\n",
        "plt.xlabel('Hyperparameter')\n",
        "plt.ylabel('Loss')\n",
        "plt.title('Hyperparameter / Loss')\n",
        "plt.savefig(\"LogisticRegression3.jpg\")"
      ],
      "metadata": {
        "colab": {
          "base_uri": "https://localhost:8080/",
          "height": 329
        },
        "id": "SDq_K4PJzo3d",
        "outputId": "f25fb5c1-9576-4de7-8a1c-27d69b8b9fbd"
      },
      "execution_count": 4,
      "outputs": [
        {
          "output_type": "stream",
          "name": "stdout",
          "text": [
            "Best hyperparameter is 5\n",
            "Logistic Regression test accuracy is 0.9666666666666667\n"
          ]
        },
        {
          "output_type": "display_data",
          "data": {
            "image/png": "[encoded data removed]",
            "text/plain": [
              "<Figure size 432x288 with 1 Axes>"
            ]
          },
          "metadata": {
            "needs_background": "light"
          }
        }
      ]
    },
    {
      "cell_type": "code",
      "source": [
        "# Naive Bayes classifier\n",
        "t_train = t_train.reshape((len(t_train),))\n",
        "# Initial hyperparameters, best_hyper\n",
        "# validation_accuracy, max_accuracy\n",
        "# mean_squared_error, loss\n",
        "hyperparameters = [0.001, 0.005, 0.01, 0.05, 0.1, 0.5, 1, 5, 10, 50, 100, 500]\n",
        "best_hyper = 0\n",
        "validation_accuracy = []\n",
        "max_accuracy = 0\n",
        "mean_squared_error = []\n",
        "loss = []\n",
        "\n",
        "for hyper in hyperparameters:\n",
        "  nb = CategoricalNB(alpha=hyper)\n",
        "  # Cross Validation Accuracy\n",
        "  cvs1 = cross_val_score(nb, X_train, t_train, scoring='accuracy', cv=7)\n",
        "  current_accuracy = np.mean(cvs1)\n",
        "  validation_accuracy.append(current_accuracy)\n",
        "  # Negative Mean Squared Error\n",
        "  cvs2 = cross_val_score(nb, X_train, t_train, scoring='neg_mean_squared_error', cv=7)\n",
        "  current_error = np.sqrt(-cvs2)\n",
        "  mean_squared_error.append(np.mean(current_error))\n",
        "  # Loss\n",
        "  nb.fit(X_train, t_train)\n",
        "  y_pred = nb.predict(X_train)\n",
        "  current_loss = hamming_loss(t_train, y_pred)\n",
        "  loss.append(current_loss)\n",
        "\n",
        "  # Update best_hyper, max_accuracy\n",
        "  if current_accuracy > max_accuracy:\n",
        "    best_hyper = hyper\n",
        "    max_accuracy = current_accuracy\n",
        "\n",
        "nb = CategoricalNB(alpha=best_hyper)\n",
        "nb.fit(X_train, t_train)\n",
        "y_test = nb.predict(X_test)\n",
        "test_acc = accuracy_score(t_test, y_test)\n",
        "print('Best hyperparameter is', best_hyper)\n",
        "print('Naive Bayes test accuracy is', test_acc)\n",
        "\n",
        "# plot Cross Validation Accuracy Curve\n",
        "plt.plot(np.log10(hyperparameters), validation_accuracy)\n",
        "plt.xlabel('Hyperparameter')\n",
        "plt.ylabel('Cross Validation Accuracy')\n",
        "plt.title('Hyperparameter / Cross Validation Accuracy')\n",
        "plt.savefig(\"Naive_Bayes1.jpg\")\n",
        "plt.cla()\n",
        "# plot Negative Mean Squared Error Curve\n",
        "plt.plot(np.log10(hyperparameters), mean_squared_error)\n",
        "plt.xlabel('Hyperparameter')\n",
        "plt.ylabel('Negative Mean Squared Error')\n",
        "plt.title('Hyperparameter / Negative Mean Squared Error')\n",
        "plt.savefig(\"Naive_Bayes2.jpg\")\n",
        "plt.cla()\n",
        "# Plot Loss Curve\n",
        "plt.plot(np.log10(hyperparameters), loss)\n",
        "plt.xlabel('Hyperparameter')\n",
        "plt.ylabel('Loss')\n",
        "plt.title('Hyperparameter / Loss')\n",
        "plt.savefig(\"Naive_Bayes3.jpg\")"
      ],
      "metadata": {
        "colab": {
          "base_uri": "https://localhost:8080/",
          "height": 329
        },
        "id": "D1Os8YTDzrXM",
        "outputId": "817a1556-ca17-4069-d52e-97e0f2622aa2"
      },
      "execution_count": 5,
      "outputs": [
        {
          "output_type": "stream",
          "name": "stdout",
          "text": [
            "Best hyperparameter is 0.001\n",
            "Naive Bayes test accuracy is 0.8666666666666667\n"
          ]
        },
        {
          "output_type": "display_data",
          "data": {
            "image/png": "[encoded data removed]",
            "text/plain": [
              "<Figure size 432x288 with 1 Axes>"
            ]
          },
          "metadata": {
            "needs_background": "light"
          }
        }
      ]
    },
    {
      "cell_type": "code",
      "source": [
        "# KNN classifier\n",
        "t_train = t_train.reshape((len(t_train),))\n",
        "# Initial hyperparameters, best_hyper\n",
        "# validation_accuracy, max_accuracy\n",
        "# mean_squared_error, loss\n",
        "hyperparameters = [1, 2, 3, 4, 5, 6, 7, 8, 9, 10, 20, 50]\n",
        "best_hyper = 0\n",
        "validation_accuracy = []\n",
        "max_accuracy = 0\n",
        "mean_squared_error = []\n",
        "loss = []\n",
        "\n",
        "for hyper in hyperparameters:\n",
        "  knn = KNeighborsClassifier(n_neighbors=hyper)\n",
        "  # Cross Validation Accuracy\n",
        "  cvs1 = cross_val_score(knn, X_train, t_train, scoring='accuracy', cv=7)\n",
        "  current_accuracy = np.mean(cvs1)\n",
        "  validation_accuracy.append(current_accuracy)\n",
        "  # Negative Mean Squared Error\n",
        "  cvs2 = cross_val_score(knn, X_train, t_train, scoring='neg_mean_squared_error', cv=7)\n",
        "  current_error = np.sqrt(-cvs2)\n",
        "  mean_squared_error.append(np.mean(current_error))\n",
        "  # Loss\n",
        "  knn.fit(X_train, t_train)\n",
        "  y_pred = knn.predict(X_train)\n",
        "  current_loss = hamming_loss(t_train, y_pred)\n",
        "  loss.append(current_loss)\n",
        "\n",
        "  # Update best_hyper, max_accuracy\n",
        "  if current_accuracy > max_accuracy:\n",
        "    best_hyper = hyper\n",
        "    max_accuracy = current_accuracy\n",
        "\n",
        "knn = KNeighborsClassifier(n_neighbors=best_hyper)\n",
        "knn.fit(X_train, t_train)\n",
        "y_test = knn.predict(X_test)\n",
        "test_acc = accuracy_score(t_test, y_test)\n",
        "print('Best hyperparameter is', best_hyper)\n",
        "print('KNN test accuracy is', test_acc)\n",
        "\n",
        "# plot Cross Validation Accuracy Curve\n",
        "plt.plot(np.log10(hyperparameters), validation_accuracy)\n",
        "plt.xlabel('Hyperparameter')\n",
        "plt.ylabel('Cross Validation Accuracy')\n",
        "plt.title('Hyperparameter / Cross Validation Accuracy')\n",
        "plt.savefig(\"KNN1.jpg\")\n",
        "plt.cla()\n",
        "# plot Negative Mean Squared Error Curve\n",
        "plt.plot(np.log10(hyperparameters), mean_squared_error)\n",
        "plt.xlabel('Hyperparameter')\n",
        "plt.ylabel('Negative Mean Squared Error')\n",
        "plt.title('Hyperparameter / Negative Mean Squared Error')\n",
        "plt.savefig(\"KNN2.jpg\")\n",
        "plt.cla()\n",
        "# Plot Loss Curve\n",
        "plt.plot(np.log10(hyperparameters), loss)\n",
        "plt.xlabel('Hyperparameter')\n",
        "plt.ylabel('Loss')\n",
        "plt.title('Hyperparameter / Loss')\n",
        "plt.savefig(\"KNN3.jpg\")"
      ],
      "metadata": {
        "colab": {
          "base_uri": "https://localhost:8080/",
          "height": 329
        },
        "id": "E2hCsNmi7xYU",
        "outputId": "3b682943-ef85-4eb0-ca9d-d1c5d46a0e66"
      },
      "execution_count": 6,
      "outputs": [
        {
          "output_type": "stream",
          "name": "stdout",
          "text": [
            "Best hyperparameter is 5\n",
            "KNN test accuracy is 0.9666666666666667\n"
          ]
        },
        {
          "output_type": "display_data",
          "data": {
            "image/png": "[encoded data removed]",
            "text/plain": [
              "<Figure size 432x288 with 1 Axes>"
            ]
          },
          "metadata": {
            "needs_background": "light"
          }
        }
      ]
    }
  ]
}